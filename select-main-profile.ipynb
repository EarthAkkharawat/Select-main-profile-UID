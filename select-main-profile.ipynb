{
 "cells": [
  {
   "cell_type": "code",
   "execution_count": 1,
   "metadata": {},
   "outputs": [],
   "source": [
    "import pandas as pd\n",
    "import numpy as np\n",
    "import matplotlib \n",
    "import csv"
   ]
  },
  {
   "cell_type": "code",
   "execution_count": 2,
   "metadata": {},
   "outputs": [],
   "source": [
    "def readCSV(path):\n",
    "    file_CSV = open(path)\n",
    "    data_CSV = csv.reader(file_CSV)\n",
    "    return list(data_CSV)\n",
    "\n"
   ]
  },
  {
   "cell_type": "code",
   "execution_count": 3,
   "metadata": {},
   "outputs": [],
   "source": [
    "profile_setgroup = readCSV('cnf_c365_profile_set_group.csv')\n",
    "profile_selected_sequence = readCSV('cnf_c365_profile_select_sequence.csv')\n",
    "profile_system_priority = readCSV('cnf_c365_profile_system_priority.csv')\n",
    "main_profile = readCSV('Main-Profile-Test-Data.csv')\n",
    "config_for_map = readCSV('config_file_for_mapping_attributes.csv')\n",
    "\n",
    "for i in range(len(main_profile)):\n",
    "    main_profile[i] = main_profile[i][:12]"
   ]
  },
  {
   "cell_type": "code",
   "execution_count": 4,
   "metadata": {},
   "outputs": [],
   "source": [
    "def setting_selected_sequence(profile_selected_sequence):\n",
    "    dic = {}\n",
    "    temp={}\n",
    "    set_group_idx = profile_selected_sequence[0].index('set_group')\n",
    "    not_null_sq_idx = profile_selected_sequence[0].index('not_null_sq')\n",
    "    update_date_sq_idx = profile_selected_sequence[0].index('update_date_sq')\n",
    "    source_system_sq_idx = profile_selected_sequence[0].index('source_system_sq')\n",
    "    for i in range(1,len(profile_selected_sequence)):\n",
    "        for j in range(not_null_sq_idx, source_system_sq_idx+1):\n",
    "            temp = {int(profile_selected_sequence[i][j]):profile_selected_sequence[0][j]}\n",
    "            if int(profile_selected_sequence[i][set_group_idx]) in dic:\n",
    "                dic[int(profile_selected_sequence[i][set_group_idx])] |= temp\n",
    "            else:\n",
    "                dic[int(profile_selected_sequence[i][set_group_idx])] = temp\n",
    "    \n",
    "    return dic\n"
   ]
  },
  {
   "cell_type": "code",
   "execution_count": 5,
   "metadata": {},
   "outputs": [],
   "source": [
    "\n",
    "def gen_set_group(profile_setgroup):\n",
    "    set_group_dic = {}\n",
    "    attribute_dic = {}\n",
    "    set_group_idx = profile_setgroup[0].index('set_group')\n",
    "    attribute_dsp_idx = profile_setgroup[0].index('attribute_dsp')\n",
    "    attribute_cl_idx = profile_setgroup[0].index('attribute_cl')\n",
    "    attribute_ogn_idx = profile_setgroup[0].index('attribute_ogn')\n",
    "\n",
    "    for r,row in enumerate(profile_setgroup):\n",
    "        if r == 0: continue\n",
    "        for i in range(4,7):\n",
    "            set_group_dic[row[i]]= int(row[set_group_idx])\n",
    "            \n",
    "        if row[set_group_idx] not in attribute_dic:\n",
    "            attribute_dic[row[set_group_idx]]= row[attribute_dsp_idx:attribute_ogn_idx+1]\n",
    "        else:\n",
    "            attribute_dic[row[set_group_idx]].append(row[attribute_dsp_idx:attribute_ogn_idx+1])\n",
    "        \n",
    "    return set_group_dic, attribute_dic\n",
    "            \n",
    "    \n"
   ]
  },
  {
   "cell_type": "code",
   "execution_count": 6,
   "metadata": {},
   "outputs": [],
   "source": [
    "def gen_system_priority(profile_system_priority):\n",
    "    dic = {}\n",
    "    set_group_idx = profile_system_priority[0].index('set_group')\n",
    "    source_systems_name_idx = profile_system_priority[0].index('source_systems_name')\n",
    "    priority_idx = profile_system_priority[0].index('priority')\n",
    "    \n",
    "\n",
    "    \n",
    "    for i in range(len(profile_system_priority)-1,0,-1):\n",
    "            temp = {profile_system_priority[i][source_systems_name_idx]:  int(profile_system_priority[i][priority_idx])}\n",
    "            if int(profile_system_priority[i][set_group_idx]) in dic:\n",
    "                dic[int(profile_system_priority[i][set_group_idx])] |= temp\n",
    "            else:\n",
    "                dic[int(profile_system_priority[i][set_group_idx])] = temp\n",
    "\n",
    "    return  dic\n",
    "    \n"
   ]
  },
  {
   "cell_type": "code",
   "execution_count": 7,
   "metadata": {},
   "outputs": [],
   "source": [
    "\n",
    "selected_sequence = setting_selected_sequence(profile_selected_sequence)\n",
    "set_group_dic, attribute_dic = gen_set_group(profile_setgroup)\n",
    "system_priority = gen_system_priority(profile_system_priority)\n",
    "set_group_dic |= {'cust_key': 2, 'source_name':22}\n",
    "selected_sequence |= {22:''}"
   ]
  },
  {
   "cell_type": "code",
   "execution_count": 8,
   "metadata": {},
   "outputs": [
    {
     "data": {
      "text/plain": [
       "{1: {1: 'not_null_sq', 3: 'update_date_sq', 2: 'source_system_sq'},\n",
       " 2: {1: 'not_null_sq', 3: 'update_date_sq', 2: 'source_system_sq'},\n",
       " 3: {1: 'not_null_sq', 3: 'update_date_sq', 2: 'source_system_sq'},\n",
       " 4: {1: 'not_null_sq', 3: 'update_date_sq', 2: 'source_system_sq'},\n",
       " 5: {1: 'not_null_sq', 3: 'update_date_sq', 2: 'source_system_sq'},\n",
       " 6: {1: 'not_null_sq', 3: 'update_date_sq', 2: 'source_system_sq'},\n",
       " 7: {1: 'not_null_sq', 3: 'update_date_sq', 2: 'source_system_sq'},\n",
       " 8: {1: 'not_null_sq', 3: 'update_date_sq', 2: 'source_system_sq'},\n",
       " 9: {1: 'not_null_sq', 3: 'update_date_sq', 2: 'source_system_sq'},\n",
       " 10: {1: 'not_null_sq', 3: 'update_date_sq', 2: 'source_system_sq'},\n",
       " 11: {1: 'not_null_sq', 3: 'update_date_sq', 2: 'source_system_sq'},\n",
       " 12: {1: 'not_null_sq', 3: 'update_date_sq', 2: 'source_system_sq'},\n",
       " 13: {1: 'not_null_sq', 3: 'update_date_sq', 2: 'source_system_sq'},\n",
       " 14: {1: 'not_null_sq', 3: 'update_date_sq', 2: 'source_system_sq'},\n",
       " 15: {1: 'not_null_sq', 3: 'update_date_sq', 2: 'source_system_sq'},\n",
       " 16: {1: 'not_null_sq', 3: 'update_date_sq', 2: 'source_system_sq'},\n",
       " 17: {1: 'not_null_sq', 3: 'update_date_sq', 2: 'source_system_sq'},\n",
       " 18: {1: 'not_null_sq', 3: 'update_date_sq', 2: 'source_system_sq'},\n",
       " 19: {1: 'not_null_sq', 3: 'update_date_sq', 2: 'source_system_sq'},\n",
       " 20: {1: 'not_null_sq', 3: 'update_date_sq', 2: 'source_system_sq'},\n",
       " 21: {1: 'not_null_sq', 3: 'update_date_sq', 2: 'source_system_sq'},\n",
       " 22: ''}"
      ]
     },
     "execution_count": 8,
     "metadata": {},
     "output_type": "execute_result"
    }
   ],
   "source": [
    "# system_priority\n",
    "selected_sequence"
   ]
  },
  {
   "cell_type": "code",
   "execution_count": 9,
   "metadata": {},
   "outputs": [],
   "source": [
    "def not_null(x):\n",
    "    if(x == ''):\n",
    "        return False\n",
    "    return True"
   ]
  },
  {
   "cell_type": "code",
   "execution_count": 10,
   "metadata": {},
   "outputs": [
    {
     "name": "stdout",
     "output_type": "stream",
     "text": [
      "{'title_1_dsp': 1, 'title_1_cl': 1, 'title_1_ogn': 1, 'title_2_dsp': 1, 'title_2_cl': 1, 'title_2_ogn': 1, 'title_extract_dsp': 1, 'title_extract_cl': 1, 'first_name_dsp': 1, 'first_name_cl': 1, 'first_name_ogn': 1, 'family_name_dsp': 1, 'family_name_cl': 1, 'family_name_ogn': 1, 'firm_name_dsp': 1, 'firm_name_cl': 1, 'firm_name_ogn': 1, 'cust_typ': 2, 'id_type': 3, 'id_dsp': 3, 'id_cl': 3, 'id_ogn': 3, 'change_birthday_flag': 4, 'birth_date_dsp': 4, 'birth_date_cl': 4, 'birth_date_ogn': 4, 'gender_dsp': 5, 'gender_cl': 5, 'gender_ogn': 5, 'occupation_dsp': 6, 'occupation_cl': 6, 'occupation_ogn': 6, 'marital_status_dsp': 7, 'marital_status_cl': 7, 'marital_status_ogn': 7, 'income_range_dsp': 8, 'income_range_cl': 8, 'income_range_ogn': 8, 'qualification_dsp': 9, 'qualification_cl': 9, 'qualification_ogn': 9, 'nationality_dsp': 10, 'nationality_cl': 10, 'nationality_ogn': 10, 'religious_dsp': 11, 'religious_cl': 11, 'religious_ogn': 11, 'mobile_no_dsp': 12, 'mobile_no_cl': 12, 'mobile_no_ogn': 12, 'fax_no_dsp': 13, 'telephone_no_dsp': 14, 'telephone_no_cl': 14, 'telephone_no_ogn': 14, 'email_dsp': 15, 'email_cl': 15, 'email_ogn': 15, 'social_type': 16, 'social_id': 16, 'address_type_dsp': 17, 'address_type_cl': 17, 'address_type_ogn': 17, 'address_no_dsp': 17, 'address_no_cl': 17, 'address_no_ogn': 17, 'road_dsp': 17, 'road_cl': 17, 'road_ogn': 17, 'sub_district_dsp': 17, 'sub_district_cl': 17, 'sub_district_ogn': 17, 'district_dsp': 17, 'district_cl': 17, 'district_ogn': 17, 'province_dsp': 17, 'province_cl': 17, 'province_ogn': 17, 'zip_code_dsp': 17, 'zip_code_cl': 17, 'zip_code_ogn': 17, 'cust_mem_typ': 18, 'cust_cont_chnl': 19, 'cust_pref_day': 20, 'cust_aval_tm': 21, 'update_date': 22, 'update_date_cl': 22, 'update_date_ogn': 22, 'cust_key': 2, 'source_name': 22}\n"
     ]
    }
   ],
   "source": [
    "print(set_group_dic)"
   ]
  },
  {
   "cell_type": "code",
   "execution_count": 11,
   "metadata": {},
   "outputs": [],
   "source": [
    "set_group_fname = set_group_dic[main_profile[0][2]]\n",
    "set_group_famname = set_group_dic[main_profile[0][3]]\n",
    "set_group_mobilecl = set_group_dic[main_profile[0][4]]\n",
    "set_group_mobiledsp = set_group_dic[main_profile[0][5]]\n",
    "# set_group_sourcename = set_group_dic[main_profile[0][6]]\n",
    "set_group_birthdate_cl = set_group_dic[main_profile[0][7]]\n",
    "set_group_birthdate_dsp = set_group_dic[main_profile[0][8]]\n",
    "set_group_email_cl = set_group_dic[main_profile[0][9]]\n",
    "set_group_email_dsp = set_group_dic[main_profile[0][10]]\n",
    "set_group_updatedate = set_group_dic[main_profile[0][11]]\n",
    "\n"
   ]
  },
  {
   "cell_type": "code",
   "execution_count": 12,
   "metadata": {},
   "outputs": [],
   "source": [
    "source_name = 300\n",
    "update_date = 300\n",
    "for i in range(0,len(main_profile[0])):\n",
    "    if(main_profile[0][i] == \"source_name\"):\n",
    "        source_name = i\n",
    "    if(main_profile[0][i] == \"update_date\"):\n",
    "        update_date = i\n",
    "    "
   ]
  },
  {
   "cell_type": "code",
   "execution_count": 13,
   "metadata": {},
   "outputs": [],
   "source": [
    "def dateFormatter(date):\n",
    "    # date = '1/12/21 00:00'\n",
    "    date=date.split(\"/\")\n",
    "    date[2] = date[2].split()\n",
    "    x = date[2]\n",
    "    date[2] = x[0]\n",
    "    date=date[::-1]\n",
    "    date.append(x[1])\n",
    "    for i in range(len(date)):\n",
    "        if (i != len(date)-1):\n",
    "            date[i] = int(date[i])\n",
    "    return date\n"
   ]
  },
  {
   "cell_type": "code",
   "execution_count": 14,
   "metadata": {},
   "outputs": [],
   "source": [
    "def compareDate(date1, date2):\n",
    "    return dateFormatter(date1) > dateFormatter(date2)"
   ]
  },
  {
   "cell_type": "code",
   "execution_count": 15,
   "metadata": {},
   "outputs": [
    {
     "data": {
      "text/plain": [
       "True"
      ]
     },
     "execution_count": 15,
     "metadata": {},
     "output_type": "execute_result"
    }
   ],
   "source": [
    "s2 = '1/2/21 00:00'\n",
    "s3 = '2/2/21 00:00'\n",
    "w = [dateFormatter(s2)]+[dateFormatter(s3)]\n",
    "w=sorted(w, reverse=True)\n",
    "w\n",
    "dateFormatter(s2)\n",
    "w[0] > w[1]"
   ]
  },
  {
   "cell_type": "code",
   "execution_count": 16,
   "metadata": {},
   "outputs": [
    {
     "data": {
      "text/plain": [
       "['gen_uid',\n",
       " 'cust_key',\n",
       " 'first_name',\n",
       " 'family_name',\n",
       " 'mobile_no',\n",
       " 'source_name',\n",
       " 'birth_date',\n",
       " 'email',\n",
       " 'update_date']"
      ]
     },
     "execution_count": 16,
     "metadata": {},
     "output_type": "execute_result"
    }
   ],
   "source": [
    "def cleanHeader():\n",
    "    header = []\n",
    "    for e in main_profile[0]:\n",
    "        if e[-3:] == '_cl':\n",
    "            if e[:-3] in header: continue\n",
    "            header.append(e[:-3])\n",
    "        elif e[-4:] == '_dsp':\n",
    "            if e[:-4] in header: continue\n",
    "            header.append(e[:-4])\n",
    "        elif e == '':\n",
    "            continue\n",
    "        else:\n",
    "            header.append(e)\n",
    "    return header\n",
    "\n",
    "x=cleanHeader()\n",
    "x          "
   ]
  },
  {
   "cell_type": "code",
   "execution_count": 17,
   "metadata": {},
   "outputs": [],
   "source": [
    "def select(set_uid):\n",
    "    group_dic={}\n",
    "    result = [set_uid[0][0]]\n",
    "    max_up = 0\n",
    "    lis = list(range(0,len(set_uid)))\n",
    "    for i in range(1,len(main_profile[0])):\n",
    "        \n",
    "        if(i == update_date):\n",
    "            continue\n",
    "        group = set_group_dic[main_profile[0][i]] ## attribute นั้นๆ อยู่ group ไหน\n",
    "        \n",
    "        minnull = 3\n",
    "        system = 10\n",
    "        if(group in group_dic):\n",
    "            result.append(set_uid[group_dic[group]][i])\n",
    "        else:\n",
    "            listnum = lis\n",
    "            listlast =[]\n",
    "            for j in range(1,len(selected_sequence[group])+1):\n",
    "                for x in range(0,len(listnum)):\n",
    "                    if(selected_sequence[group][j] == \"not_null_sq\"):\n",
    "                        if(not_null(set_uid[listnum[x]][i]) < minnull):\n",
    "                            listlast.clear()\n",
    "                            minnull = not_null(set_uid[listnum[x]][i])\n",
    "                            listlast.append(listnum[x])\n",
    "                        elif(not_null(set_uid[listnum[x]][i]) == minnull):\n",
    "                            listlast.append(listnum[x])\n",
    "                    elif(selected_sequence[group][j] == \"source_system_sq\"):\n",
    "                        if(set_uid[listnum[x]][source_name] != '' and system_priority[group][set_uid[listnum[x]][source_name]] < system):\n",
    "                            listlast.clear()\n",
    "                            system = system_priority[group][set_uid[listnum[x]][source_name]]\n",
    "                            listlast.append(listnum[x])\n",
    "                        elif(set_uid[listnum[x]][source_name] != '' and system_priority[group][set_uid[listnum[x]][source_name]] == system):\n",
    "                            listlast.append(listnum[x])\n",
    "                    elif(selected_sequence[group][j] == \"update_date_sq\"):\n",
    "                        if(x == 0):\n",
    "                            max_update_date = set_uid[listnum[x]][update_date]\n",
    "                            max_up = max_update_date\n",
    "                            continue\n",
    "                        if(dateFormatter(set_uid[listnum[x]][update_date]) > dateFormatter(max_update_date)):\n",
    "                            listlast.clear()\n",
    "                            max_update_date = set_uid[listnum[x]][update_date]\n",
    "                            max_up = max_update_date\n",
    "                            listlast.append(listnum[x])\n",
    "                        elif(dateFormatter(set_uid[listnum[x]][update_date]) == dateFormatter(max_update_date)):\n",
    "                            listlast.append(listnum[x])\n",
    "                            \n",
    "                   \n",
    "                listnum = listlast.copy() \n",
    "            group_dic[group] = listnum[0]\n",
    "            result.append(set_uid[listnum[0]][i])\n",
    "\n",
    "    result.append(max_up)     \n",
    "    return result"
   ]
  },
  {
   "cell_type": "code",
   "execution_count": 18,
   "metadata": {},
   "outputs": [],
   "source": [
    "def mainProfile2():\n",
    "    result = []\n",
    "    sele = []\n",
    "    sele.append(main_profile[1])\n",
    "    for i in range(2,len(main_profile), 1):\n",
    "        if(main_profile[i][0] == main_profile[i-1][0]):\n",
    "            sele.append(main_profile[i])\n",
    "        elif(main_profile[i][0] != main_profile[i-1][0]):\n",
    "            result.append(select(sele))\n",
    "            sele.clear()\n",
    "            sele.append(main_profile[i])\n",
    "    \n",
    "    return result\n",
    "\n",
    "result=mainProfile2()"
   ]
  },
  {
   "cell_type": "code",
   "execution_count": 19,
   "metadata": {},
   "outputs": [],
   "source": [
    "file = open('main_profile_result.csv', 'w')\n",
    "\n",
    "writer = csv.writer(file)\n",
    "\n",
    "writer.writerow(main_profile[0])\n",
    "for row in result:\n",
    "    writer.writerow(row)"
   ]
  }
 ],
 "metadata": {
  "kernelspec": {
   "display_name": "Python 3.10.6 64-bit",
   "language": "python",
   "name": "python3"
  },
  "language_info": {
   "codemirror_mode": {
    "name": "ipython",
    "version": 3
   },
   "file_extension": ".py",
   "mimetype": "text/x-python",
   "name": "python",
   "nbconvert_exporter": "python",
   "pygments_lexer": "ipython3",
   "version": "3.10.8"
  },
  "orig_nbformat": 4,
  "vscode": {
   "interpreter": {
    "hash": "a0a5145e6c304e2a9afaf5b930a2955b950bd4b81fe94f7c42930f43f42762eb"
   }
  }
 },
 "nbformat": 4,
 "nbformat_minor": 2
}
